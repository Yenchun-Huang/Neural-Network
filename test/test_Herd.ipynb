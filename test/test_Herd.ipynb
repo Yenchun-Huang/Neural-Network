{
 "cells": [
  {
   "cell_type": "code",
   "execution_count": 1,
   "metadata": {},
   "outputs": [
    {
     "name": "stderr",
     "output_type": "stream",
     "text": [
      "Using TensorFlow backend.\n"
     ]
    }
   ],
   "source": [
    "from keras.models import Sequential, load_model \n",
    "from keras.layers.core import Dense, Dropout, Flatten, Activation \n",
    "from sklearn import preprocessing\n",
    "import csv\n",
    "import pandas as pd\n",
    "import matplotlib.pyplot as plt"
   ]
  },
  {
   "cell_type": "markdown",
   "metadata": {},
   "source": [
    "P1的策略：<br/>\n",
    "If Dprice=0, P1Decision is B <br/>\n",
    "If Dprice>0, P1Decision is S <br/>\n",
    "If Dprice<0, P1Decision is N <br/>\n",
    "(資料中沒有N，因此output改為2) <br/>\n",
    "<br/>\n",
    "P2的策略： <br/>\n",
    "If Dprice>0, P1Decision is B<br/>\n",
    "If Dprice<0, P1Decision is S<br/>\n",
    "If Dprice=0, P1Decision is N<br/>\n",
    "model預測P1Decision"
   ]
  },
  {
   "cell_type": "markdown",
   "metadata": {},
   "source": [
    "輸入Dprice作為X <br/>\n",
    "輸入P2Decision作為Y"
   ]
  },
  {
   "cell_type": "code",
   "execution_count": 2,
   "metadata": {},
   "outputs": [],
   "source": [
    "with open('Hedge_Herd.csv', newline = '') as csvfile:\n",
    "    data = pd.read_csv(csvfile)\n",
    "X = data.loc[:,'Dprice']\n",
    "X = X[1:100]\n",
    "X = preprocessing.scale(X)\n",
    "\n",
    "Y = data.loc[:,'P2Decision']\n",
    "Y = Y[1:100]\n",
    "#以one-hot encoding將 Decision 轉為數值(1 0 0)呈現\n",
    "Y_dum = pd.get_dummies(Y)"
   ]
  },
  {
   "cell_type": "markdown",
   "metadata": {},
   "source": [
    "建立並訓練model <br/>\n",
    "input只輸入Dprice, hidden layer設置50個nodes <br/>\n",
    "將data其中的20%作為testing data"
   ]
  },
  {
   "cell_type": "code",
   "execution_count": 3,
   "metadata": {},
   "outputs": [
    {
     "name": "stdout",
     "output_type": "stream",
     "text": [
      "Model: \"sequential_1\"\n",
      "_________________________________________________________________\n",
      "Layer (type)                 Output Shape              Param #   \n",
      "=================================================================\n",
      "dense_1 (Dense)              (None, 50)                100       \n",
      "_________________________________________________________________\n",
      "dense_2 (Dense)              (None, 2)                 102       \n",
      "=================================================================\n",
      "Total params: 202\n",
      "Trainable params: 202\n",
      "Non-trainable params: 0\n",
      "_________________________________________________________________\n",
      "Train on 79 samples, validate on 20 samples\n",
      "Epoch 1/50\n",
      "79/79 [==============================] - 1s 16ms/step - loss: 0.7036 - accuracy: 0.1266 - val_loss: 0.7031 - val_accuracy: 0.0000e+00\n",
      "Epoch 2/50\n",
      "79/79 [==============================] - 0s 63us/step - loss: 0.6968 - accuracy: 0.2785 - val_loss: 0.6927 - val_accuracy: 0.5000\n",
      "Epoch 3/50\n",
      "79/79 [==============================] - 0s 63us/step - loss: 0.6900 - accuracy: 0.6329 - val_loss: 0.6824 - val_accuracy: 1.0000\n",
      "Epoch 4/50\n",
      "79/79 [==============================] - 0s 65us/step - loss: 0.6830 - accuracy: 0.8734 - val_loss: 0.6722 - val_accuracy: 1.0000\n",
      "Epoch 5/50\n",
      "79/79 [==============================] - 0s 76us/step - loss: 0.6764 - accuracy: 0.8734 - val_loss: 0.6621 - val_accuracy: 1.0000\n",
      "Epoch 6/50\n",
      "79/79 [==============================] - 0s 63us/step - loss: 0.6694 - accuracy: 0.8734 - val_loss: 0.6520 - val_accuracy: 1.0000\n",
      "Epoch 7/50\n",
      "79/79 [==============================] - 0s 76us/step - loss: 0.6631 - accuracy: 0.8734 - val_loss: 0.6421 - val_accuracy: 1.0000\n",
      "Epoch 8/50\n",
      "79/79 [==============================] - 0s 63us/step - loss: 0.6563 - accuracy: 0.8734 - val_loss: 0.6322 - val_accuracy: 1.0000\n",
      "Epoch 9/50\n",
      "79/79 [==============================] - 0s 76us/step - loss: 0.6498 - accuracy: 0.8734 - val_loss: 0.6225 - val_accuracy: 1.0000\n",
      "Epoch 10/50\n",
      "79/79 [==============================] - 0s 76us/step - loss: 0.6436 - accuracy: 0.8734 - val_loss: 0.6128 - val_accuracy: 1.0000\n",
      "Epoch 11/50\n",
      "79/79 [==============================] - 0s 76us/step - loss: 0.6371 - accuracy: 0.8734 - val_loss: 0.6035 - val_accuracy: 1.0000\n",
      "Epoch 12/50\n",
      "79/79 [==============================] - 0s 76us/step - loss: 0.6311 - accuracy: 0.8734 - val_loss: 0.5943 - val_accuracy: 1.0000\n",
      "Epoch 13/50\n",
      "79/79 [==============================] - 0s 50us/step - loss: 0.6254 - accuracy: 0.8734 - val_loss: 0.5852 - val_accuracy: 1.0000\n",
      "Epoch 14/50\n",
      "79/79 [==============================] - 0s 50us/step - loss: 0.6192 - accuracy: 0.8734 - val_loss: 0.5762 - val_accuracy: 1.0000\n",
      "Epoch 15/50\n",
      "79/79 [==============================] - 0s 69us/step - loss: 0.6132 - accuracy: 0.8734 - val_loss: 0.5673 - val_accuracy: 1.0000\n",
      "Epoch 16/50\n",
      "79/79 [==============================] - 0s 76us/step - loss: 0.6071 - accuracy: 0.8734 - val_loss: 0.5584 - val_accuracy: 1.0000\n",
      "Epoch 17/50\n",
      "79/79 [==============================] - 0s 76us/step - loss: 0.6013 - accuracy: 0.8734 - val_loss: 0.5494 - val_accuracy: 1.0000\n",
      "Epoch 18/50\n",
      "79/79 [==============================] - 0s 54us/step - loss: 0.5955 - accuracy: 0.8734 - val_loss: 0.5405 - val_accuracy: 1.0000\n",
      "Epoch 19/50\n",
      "79/79 [==============================] - 0s 63us/step - loss: 0.5895 - accuracy: 0.8734 - val_loss: 0.5317 - val_accuracy: 1.0000\n",
      "Epoch 20/50\n",
      "79/79 [==============================] - 0s 63us/step - loss: 0.5836 - accuracy: 0.8734 - val_loss: 0.5228 - val_accuracy: 1.0000\n",
      "Epoch 21/50\n",
      "79/79 [==============================] - 0s 69us/step - loss: 0.5778 - accuracy: 0.8734 - val_loss: 0.5140 - val_accuracy: 1.0000\n",
      "Epoch 22/50\n",
      "79/79 [==============================] - 0s 76us/step - loss: 0.5719 - accuracy: 0.8734 - val_loss: 0.5052 - val_accuracy: 1.0000\n",
      "Epoch 23/50\n",
      "79/79 [==============================] - 0s 63us/step - loss: 0.5662 - accuracy: 0.8734 - val_loss: 0.4966 - val_accuracy: 1.0000\n",
      "Epoch 24/50\n",
      "79/79 [==============================] - 0s 63us/step - loss: 0.5604 - accuracy: 0.8734 - val_loss: 0.4880 - val_accuracy: 1.0000\n",
      "Epoch 25/50\n",
      "79/79 [==============================] - 0s 84us/step - loss: 0.5550 - accuracy: 0.8734 - val_loss: 0.4794 - val_accuracy: 1.0000\n",
      "Epoch 26/50\n",
      "79/79 [==============================] - 0s 88us/step - loss: 0.5495 - accuracy: 0.8734 - val_loss: 0.4709 - val_accuracy: 1.0000\n",
      "Epoch 27/50\n",
      "79/79 [==============================] - 0s 76us/step - loss: 0.5437 - accuracy: 0.8734 - val_loss: 0.4624 - val_accuracy: 1.0000\n",
      "Epoch 28/50\n",
      "79/79 [==============================] - 0s 92us/step - loss: 0.5383 - accuracy: 0.8734 - val_loss: 0.4540 - val_accuracy: 1.0000\n",
      "Epoch 29/50\n",
      "79/79 [==============================] - 0s 88us/step - loss: 0.5329 - accuracy: 0.8734 - val_loss: 0.4456 - val_accuracy: 1.0000\n",
      "Epoch 30/50\n",
      "79/79 [==============================] - 0s 76us/step - loss: 0.5273 - accuracy: 0.8734 - val_loss: 0.4373 - val_accuracy: 1.0000\n",
      "Epoch 31/50\n",
      "79/79 [==============================] - 0s 75us/step - loss: 0.5223 - accuracy: 0.8734 - val_loss: 0.4289 - val_accuracy: 1.0000\n",
      "Epoch 32/50\n",
      "79/79 [==============================] - 0s 88us/step - loss: 0.5168 - accuracy: 0.8734 - val_loss: 0.4207 - val_accuracy: 1.0000\n",
      "Epoch 33/50\n",
      "79/79 [==============================] - 0s 74us/step - loss: 0.5113 - accuracy: 0.8734 - val_loss: 0.4125 - val_accuracy: 1.0000\n",
      "Epoch 34/50\n",
      "79/79 [==============================] - 0s 75us/step - loss: 0.5063 - accuracy: 0.8734 - val_loss: 0.4043 - val_accuracy: 1.0000\n",
      "Epoch 35/50\n",
      "79/79 [==============================] - 0s 90us/step - loss: 0.5008 - accuracy: 0.8734 - val_loss: 0.3962 - val_accuracy: 1.0000\n",
      "Epoch 36/50\n",
      "79/79 [==============================] - 0s 73us/step - loss: 0.4956 - accuracy: 0.8734 - val_loss: 0.3881 - val_accuracy: 1.0000\n",
      "Epoch 37/50\n",
      "79/79 [==============================] - 0s 88us/step - loss: 0.4906 - accuracy: 0.8734 - val_loss: 0.3800 - val_accuracy: 1.0000\n",
      "Epoch 38/50\n",
      "79/79 [==============================] - 0s 76us/step - loss: 0.4855 - accuracy: 0.8734 - val_loss: 0.3721 - val_accuracy: 1.0000\n",
      "Epoch 39/50\n",
      "79/79 [==============================] - 0s 73us/step - loss: 0.4801 - accuracy: 0.8734 - val_loss: 0.3642 - val_accuracy: 1.0000\n",
      "Epoch 40/50\n",
      "79/79 [==============================] - 0s 76us/step - loss: 0.4750 - accuracy: 0.8734 - val_loss: 0.3565 - val_accuracy: 1.0000\n",
      "Epoch 41/50\n",
      "79/79 [==============================] - 0s 76us/step - loss: 0.4701 - accuracy: 0.8734 - val_loss: 0.3487 - val_accuracy: 1.0000\n",
      "Epoch 42/50\n",
      "79/79 [==============================] - 0s 76us/step - loss: 0.4652 - accuracy: 0.8734 - val_loss: 0.3411 - val_accuracy: 1.0000\n",
      "Epoch 43/50\n",
      "79/79 [==============================] - 0s 72us/step - loss: 0.4599 - accuracy: 0.8734 - val_loss: 0.3336 - val_accuracy: 1.0000\n",
      "Epoch 44/50\n",
      "79/79 [==============================] - 0s 88us/step - loss: 0.4551 - accuracy: 0.8734 - val_loss: 0.3261 - val_accuracy: 1.0000\n",
      "Epoch 45/50\n",
      "79/79 [==============================] - 0s 75us/step - loss: 0.4503 - accuracy: 0.8734 - val_loss: 0.3186 - val_accuracy: 1.0000\n",
      "Epoch 46/50\n",
      "79/79 [==============================] - 0s 75us/step - loss: 0.4453 - accuracy: 0.8734 - val_loss: 0.3113 - val_accuracy: 1.0000\n",
      "Epoch 47/50\n",
      "79/79 [==============================] - 0s 73us/step - loss: 0.4405 - accuracy: 0.8734 - val_loss: 0.3040 - val_accuracy: 1.0000\n",
      "Epoch 48/50\n",
      "79/79 [==============================] - 0s 63us/step - loss: 0.4358 - accuracy: 0.8734 - val_loss: 0.2969 - val_accuracy: 1.0000\n",
      "Epoch 49/50\n",
      "79/79 [==============================] - 0s 75us/step - loss: 0.4310 - accuracy: 0.8734 - val_loss: 0.2898 - val_accuracy: 1.0000\n",
      "Epoch 50/50\n",
      "79/79 [==============================] - 0s 63us/step - loss: 0.4264 - accuracy: 0.8734 - val_loss: 0.2828 - val_accuracy: 1.0000\n"
     ]
    }
   ],
   "source": [
    "#固定每次random跑出的結果以利解釋\n",
    "np.random.seed(408)\n",
    "#建構 model\n",
    "model = Sequential()\n",
    "model.add(Dense(50, input_dim = 1, activation='relu'))\n",
    "model.add(Dense(2, activation='sigmoid'))\n",
    "model.summary()\n",
    "\n",
    "model.compile(loss='categorical_crossentropy', \n",
    "              optimizer='adam', \n",
    "              metrics=['accuracy'])\n",
    "\n",
    "test = model.fit(X,Y_dum, epochs = 50, batch_size = 50, validation_split = 0.2, shuffle = True)"
   ]
  },
  {
   "cell_type": "markdown",
   "metadata": {},
   "source": [
    "以圖表的方式呈現model訓練以及測試的效果"
   ]
  },
  {
   "cell_type": "code",
   "execution_count": 4,
   "metadata": {},
   "outputs": [
    {
     "data": {
      "image/png": "[encoded data removed]",
      "text/plain": [
       "<Figure size 432x288 with 1 Axes>"
      ]
     },
     "metadata": {
      "needs_background": "light"
     },
     "output_type": "display_data"
    },
    {
     "data": {
      "image/png": "[encoded data removed]",
      "text/plain": [
       "<Figure size 432x288 with 1 Axes>"
      ]
     },
     "metadata": {
      "needs_background": "light"
     },
     "output_type": "display_data"
    }
   ],
   "source": [
    "plt.plot(test.history['accuracy'])\n",
    "plt.plot(test.history['val_accuracy'])\n",
    "plt.title('Model accuracy')\n",
    "plt.ylabel('Accuracy')\n",
    "plt.xlabel('Epoch')\n",
    "plt.legend(['Train', 'Test'], loc='upper left')\n",
    "plt.show()\n",
    "plt.plot(test.history['loss'])\n",
    "plt.plot(test.history['val_loss'])\n",
    "plt.title('Model Loss')\n",
    "plt.ylabel('Loss')\n",
    "plt.xlabel('Epoch')\n",
    "plt.legend(['Train', 'Test'], loc='upper left')\n",
    "plt.show()"
   ]
  }
 ],
 "metadata": {
  "kernelspec": {
   "display_name": "Python 3",
   "language": "python",
   "name": "python3"
  },
  "language_info": {
   "codemirror_mode": {
    "name": "ipython",
    "version": 3
   },
   "file_extension": ".py",
   "mimetype": "text/x-python",
   "name": "python",
   "nbconvert_exporter": "python",
   "pygments_lexer": "ipython3",
   "version": "3.7.3"
  }
 },
 "nbformat": 4,
 "nbformat_minor": 2
}
