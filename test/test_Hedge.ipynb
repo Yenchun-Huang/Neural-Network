{
 "cells": [
  {
   "cell_type": "markdown",
   "metadata": {},
   "source": [
    "測試能否確實應用策略 <br/>\n",
    "現金跟股票放為兩倍"
   ]
  },
  {
   "cell_type": "code",
   "execution_count": 2,
   "metadata": {},
   "outputs": [
    {
     "name": "stderr",
     "output_type": "stream",
     "text": [
      "Using TensorFlow backend.\n"
     ]
    }
   ],
   "source": [
    "from keras.models import Sequential, load_model \n",
    "from keras.layers.core import Dense, Dropout, Flatten, Activation \n",
    "from sklearn import preprocessing\n",
    "import csv\n",
    "import numpy as np \n",
    "import pandas as pd\n",
    "import matplotlib.pyplot as plt"
   ]
  },
  {
   "cell_type": "markdown",
   "metadata": {},
   "source": [
    "兩位受試者的策略均為：<br/>\n",
    "If Dprice>0, P1Decision is S <br/>\n",
    "If Dprice<0, P1Decision is N <br/>\n",
    "If Dprice=0, P1Decision is B "
   ]
  },
  {
   "cell_type": "markdown",
   "metadata": {},
   "source": [
    "輸入資料 <br/>\n",
    "X 輸入 Dprice 作為預測的變項<br/>\n",
    "Y 輸入 P1Decision 作為被預測的變項<br/>"
   ]
  },
  {
   "cell_type": "code",
   "execution_count": 3,
   "metadata": {},
   "outputs": [],
   "source": [
    "with open('Hedge_Hedge.csv', newline = '') as csvfile:\n",
    "    data = pd.read_csv(csvfile)\n",
    "X = data.loc[:,'Dprice']\n",
    "X = X[1:100]\n",
    "X = preprocessing.scale(X)\n",
    "\n",
    "Y = data.loc[:,'P1Decision']\n",
    "Y = Y[1:100]\n",
    "#以one-hot encoding將 Decision 轉為數值(1 0 0)呈現\n",
    "Y_dum = pd.get_dummies(Y)"
   ]
  },
  {
   "cell_type": "markdown",
   "metadata": {},
   "source": [
    "建立並訓練model <br/>\n",
    "input只輸入Dprice, hidden layer設置50個nodes <br/>\n",
    "將data其中的20%作為testing data"
   ]
  },
  {
   "cell_type": "code",
   "execution_count": 4,
   "metadata": {},
   "outputs": [
    {
     "name": "stdout",
     "output_type": "stream",
     "text": [
      "Model: \"sequential_1\"\n",
      "_________________________________________________________________\n",
      "Layer (type)                 Output Shape              Param #   \n",
      "=================================================================\n",
      "dense_1 (Dense)              (None, 50)                100       \n",
      "_________________________________________________________________\n",
      "dense_2 (Dense)              (None, 3)                 153       \n",
      "=================================================================\n",
      "Total params: 253\n",
      "Trainable params: 253\n",
      "Non-trainable params: 0\n",
      "_________________________________________________________________\n",
      "Train on 79 samples, validate on 20 samples\n",
      "Epoch 1/50\n",
      "79/79 [==============================] - 0s 6ms/step - loss: 1.1610 - accuracy: 0.3291 - val_loss: 1.1541 - val_accuracy: 0.3500\n",
      "Epoch 2/50\n",
      "79/79 [==============================] - 0s 101us/step - loss: 1.1516 - accuracy: 0.3291 - val_loss: 1.1456 - val_accuracy: 0.3500\n",
      "Epoch 3/50\n",
      "79/79 [==============================] - 0s 101us/step - loss: 1.1422 - accuracy: 0.3291 - val_loss: 1.1374 - val_accuracy: 0.3500\n",
      "Epoch 4/50\n",
      "79/79 [==============================] - 0s 101us/step - loss: 1.1335 - accuracy: 0.3291 - val_loss: 1.1293 - val_accuracy: 0.3500\n",
      "Epoch 5/50\n",
      "79/79 [==============================] - 0s 101us/step - loss: 1.1253 - accuracy: 0.3291 - val_loss: 1.1215 - val_accuracy: 0.3500\n",
      "Epoch 6/50\n",
      "79/79 [==============================] - 0s 114us/step - loss: 1.1171 - accuracy: 0.3291 - val_loss: 1.1139 - val_accuracy: 0.3500\n",
      "Epoch 7/50\n",
      "79/79 [==============================] - 0s 113us/step - loss: 1.1086 - accuracy: 0.3291 - val_loss: 1.1063 - val_accuracy: 0.3500\n",
      "Epoch 8/50\n",
      "79/79 [==============================] - 0s 94us/step - loss: 1.1007 - accuracy: 0.3291 - val_loss: 1.0989 - val_accuracy: 0.3500\n",
      "Epoch 9/50\n",
      "79/79 [==============================] - 0s 101us/step - loss: 1.0930 - accuracy: 0.3291 - val_loss: 1.0916 - val_accuracy: 0.3500\n",
      "Epoch 10/50\n",
      "79/79 [==============================] - 0s 101us/step - loss: 1.0852 - accuracy: 0.3291 - val_loss: 1.0845 - val_accuracy: 0.3500\n",
      "Epoch 11/50\n",
      "79/79 [==============================] - 0s 108us/step - loss: 1.0777 - accuracy: 0.3291 - val_loss: 1.0775 - val_accuracy: 0.3500\n",
      "Epoch 12/50\n",
      "79/79 [==============================] - 0s 114us/step - loss: 1.0699 - accuracy: 0.3291 - val_loss: 1.0706 - val_accuracy: 0.3500\n",
      "Epoch 13/50\n",
      "79/79 [==============================] - 0s 129us/step - loss: 1.0627 - accuracy: 0.3291 - val_loss: 1.0639 - val_accuracy: 0.3500\n",
      "Epoch 14/50\n",
      "79/79 [==============================] - 0s 101us/step - loss: 1.0554 - accuracy: 0.3291 - val_loss: 1.0573 - val_accuracy: 0.3500\n",
      "Epoch 15/50\n",
      "79/79 [==============================] - 0s 114us/step - loss: 1.0483 - accuracy: 0.4430 - val_loss: 1.0507 - val_accuracy: 0.3500\n",
      "Epoch 16/50\n",
      "79/79 [==============================] - 0s 126us/step - loss: 1.0414 - accuracy: 0.4937 - val_loss: 1.0442 - val_accuracy: 0.3500\n",
      "Epoch 17/50\n",
      "79/79 [==============================] - 0s 101us/step - loss: 1.0345 - accuracy: 0.5570 - val_loss: 1.0377 - val_accuracy: 0.5500\n",
      "Epoch 18/50\n",
      "79/79 [==============================] - 0s 101us/step - loss: 1.0275 - accuracy: 0.5823 - val_loss: 1.0313 - val_accuracy: 0.7000\n",
      "Epoch 19/50\n",
      "79/79 [==============================] - 0s 127us/step - loss: 1.0206 - accuracy: 0.6456 - val_loss: 1.0250 - val_accuracy: 0.7000\n",
      "Epoch 20/50\n",
      "79/79 [==============================] - 0s 101us/step - loss: 1.0142 - accuracy: 0.8481 - val_loss: 1.0188 - val_accuracy: 0.8000\n",
      "Epoch 21/50\n",
      "79/79 [==============================] - 0s 88us/step - loss: 1.0072 - accuracy: 0.9494 - val_loss: 1.0125 - val_accuracy: 1.0000\n",
      "Epoch 22/50\n",
      "79/79 [==============================] - 0s 126us/step - loss: 1.0007 - accuracy: 1.0000 - val_loss: 1.0063 - val_accuracy: 1.0000\n",
      "Epoch 23/50\n",
      "79/79 [==============================] - 0s 103us/step - loss: 0.9942 - accuracy: 1.0000 - val_loss: 1.0001 - val_accuracy: 1.0000\n",
      "Epoch 24/50\n",
      "79/79 [==============================] - 0s 114us/step - loss: 0.9875 - accuracy: 1.0000 - val_loss: 0.9940 - val_accuracy: 1.0000\n",
      "Epoch 25/50\n",
      "79/79 [==============================] - 0s 114us/step - loss: 0.9809 - accuracy: 1.0000 - val_loss: 0.9878 - val_accuracy: 1.0000\n",
      "Epoch 26/50\n",
      "79/79 [==============================] - 0s 113us/step - loss: 0.9747 - accuracy: 1.0000 - val_loss: 0.9816 - val_accuracy: 1.0000\n",
      "Epoch 27/50\n",
      "79/79 [==============================] - 0s 114us/step - loss: 0.9682 - accuracy: 1.0000 - val_loss: 0.9755 - val_accuracy: 1.0000\n",
      "Epoch 28/50\n",
      "79/79 [==============================] - 0s 116us/step - loss: 0.9617 - accuracy: 1.0000 - val_loss: 0.9694 - val_accuracy: 1.0000\n",
      "Epoch 29/50\n",
      "79/79 [==============================] - 0s 113us/step - loss: 0.9551 - accuracy: 1.0000 - val_loss: 0.9632 - val_accuracy: 1.0000\n",
      "Epoch 30/50\n",
      "79/79 [==============================] - 0s 114us/step - loss: 0.9488 - accuracy: 1.0000 - val_loss: 0.9571 - val_accuracy: 1.0000\n",
      "Epoch 31/50\n",
      "79/79 [==============================] - 0s 113us/step - loss: 0.9423 - accuracy: 1.0000 - val_loss: 0.9509 - val_accuracy: 1.0000\n",
      "Epoch 32/50\n",
      "79/79 [==============================] - 0s 102us/step - loss: 0.9357 - accuracy: 1.0000 - val_loss: 0.9448 - val_accuracy: 1.0000\n",
      "Epoch 33/50\n",
      "79/79 [==============================] - 0s 101us/step - loss: 0.9292 - accuracy: 1.0000 - val_loss: 0.9386 - val_accuracy: 1.0000\n",
      "Epoch 34/50\n",
      "79/79 [==============================] - 0s 127us/step - loss: 0.9226 - accuracy: 1.0000 - val_loss: 0.9324 - val_accuracy: 1.0000\n",
      "Epoch 35/50\n",
      "79/79 [==============================] - 0s 94us/step - loss: 0.9162 - accuracy: 1.0000 - val_loss: 0.9261 - val_accuracy: 1.0000\n",
      "Epoch 36/50\n",
      "79/79 [==============================] - 0s 101us/step - loss: 0.9095 - accuracy: 1.0000 - val_loss: 0.9198 - val_accuracy: 1.0000\n",
      "Epoch 37/50\n",
      "79/79 [==============================] - 0s 117us/step - loss: 0.9029 - accuracy: 1.0000 - val_loss: 0.9134 - val_accuracy: 1.0000\n",
      "Epoch 38/50\n",
      "79/79 [==============================] - 0s 131us/step - loss: 0.8963 - accuracy: 1.0000 - val_loss: 0.9071 - val_accuracy: 1.0000\n",
      "Epoch 39/50\n",
      "79/79 [==============================] - 0s 101us/step - loss: 0.8896 - accuracy: 1.0000 - val_loss: 0.9008 - val_accuracy: 1.0000\n",
      "Epoch 40/50\n",
      "79/79 [==============================] - 0s 114us/step - loss: 0.8828 - accuracy: 1.0000 - val_loss: 0.8944 - val_accuracy: 1.0000\n",
      "Epoch 41/50\n",
      "79/79 [==============================] - 0s 126us/step - loss: 0.8763 - accuracy: 1.0000 - val_loss: 0.8881 - val_accuracy: 1.0000\n",
      "Epoch 42/50\n",
      "79/79 [==============================] - 0s 101us/step - loss: 0.8695 - accuracy: 1.0000 - val_loss: 0.8817 - val_accuracy: 1.0000\n",
      "Epoch 43/50\n",
      "79/79 [==============================] - 0s 113us/step - loss: 0.8628 - accuracy: 1.0000 - val_loss: 0.8753 - val_accuracy: 1.0000\n",
      "Epoch 44/50\n",
      "79/79 [==============================] - 0s 75us/step - loss: 0.8559 - accuracy: 1.0000 - val_loss: 0.8689 - val_accuracy: 1.0000\n",
      "Epoch 45/50\n",
      "79/79 [==============================] - 0s 80us/step - loss: 0.8494 - accuracy: 1.0000 - val_loss: 0.8625 - val_accuracy: 1.0000\n",
      "Epoch 46/50\n",
      "79/79 [==============================] - 0s 63us/step - loss: 0.8425 - accuracy: 1.0000 - val_loss: 0.8560 - val_accuracy: 1.0000\n",
      "Epoch 47/50\n",
      "79/79 [==============================] - 0s 88us/step - loss: 0.8357 - accuracy: 1.0000 - val_loss: 0.8495 - val_accuracy: 1.0000\n",
      "Epoch 48/50\n",
      "79/79 [==============================] - 0s 76us/step - loss: 0.8290 - accuracy: 1.0000 - val_loss: 0.8430 - val_accuracy: 1.0000\n",
      "Epoch 49/50\n",
      "79/79 [==============================] - 0s 88us/step - loss: 0.8219 - accuracy: 1.0000 - val_loss: 0.8365 - val_accuracy: 1.0000\n",
      "Epoch 50/50\n",
      "79/79 [==============================] - 0s 63us/step - loss: 0.8154 - accuracy: 1.0000 - val_loss: 0.8300 - val_accuracy: 1.0000\n"
     ]
    }
   ],
   "source": [
    "#固定每次random跑出的結果以利解釋\n",
    "np.random.seed(408)\n",
    "#建構 model\n",
    "model = Sequential()\n",
    "model.add(Dense(50, input_dim = 1, activation='relu'))\n",
    "model.add(Dense(3, activation='sigmoid'))\n",
    "model.summary()\n",
    "\n",
    "model.compile(loss='categorical_crossentropy', \n",
    "              optimizer='adam', \n",
    "              metrics=['accuracy'])\n",
    "\n",
    "test = model.fit(X,Y_dum, epochs = 50, batch_size = 50, validation_split = 0.2, shuffle = True)"
   ]
  },
  {
   "cell_type": "markdown",
   "metadata": {},
   "source": [
    "以圖表的方式呈現model訓練以及測試的效果"
   ]
  },
  {
   "cell_type": "code",
   "execution_count": 5,
   "metadata": {},
   "outputs": [
    {
     "data": {
      "image/png": "[encoded data removed]",
      "text/plain": [
       "<Figure size 432x288 with 1 Axes>"
      ]
     },
     "metadata": {
      "needs_background": "light"
     },
     "output_type": "display_data"
    },
    {
     "data": {
      "image/png": "[encoded data removed]",
      "text/plain": [
       "<Figure size 432x288 with 1 Axes>"
      ]
     },
     "metadata": {
      "needs_background": "light"
     },
     "output_type": "display_data"
    }
   ],
   "source": [
    "plt.plot(test.history['accuracy'])\n",
    "plt.plot(test.history['val_accuracy'])\n",
    "plt.title('Model accuracy')\n",
    "plt.ylabel('Accuracy')\n",
    "plt.xlabel('Epoch')\n",
    "plt.legend(['Train', 'Test'], loc='upper left')\n",
    "plt.show()\n",
    "plt.plot(test.history['loss'])\n",
    "plt.plot(test.history['val_loss'])\n",
    "plt.title('Model Loss')\n",
    "plt.ylabel('Loss')\n",
    "plt.xlabel('Epoch')\n",
    "plt.legend(['Train', 'Test'], loc='upper left')\n",
    "plt.show()"
   ]
  },
  {
   "cell_type": "code",
   "execution_count": null,
   "metadata": {},
   "outputs": [],
   "source": []
  }
 ],
 "metadata": {
  "kernelspec": {
   "display_name": "Python 3",
   "language": "python",
   "name": "python3"
  },
  "language_info": {
   "codemirror_mode": {
    "name": "ipython",
    "version": 3
   },
   "file_extension": ".py",
   "mimetype": "text/x-python",
   "name": "python",
   "nbconvert_exporter": "python",
   "pygments_lexer": "ipython3",
   "version": "3.7.3"
  }
 },
 "nbformat": 4,
 "nbformat_minor": 2
}
