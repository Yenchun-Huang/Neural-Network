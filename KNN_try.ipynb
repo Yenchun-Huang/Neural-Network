{
 "cells": [
  {
   "cell_type": "markdown",
   "metadata": {},
   "source": [
    "# KNN\n",
    "修正時間: 2020/6/27"
   ]
  },
  {
   "cell_type": "markdown",
   "metadata": {},
   "source": [
    "## 模型介紹\n",
    "KNN是透過機器學習去辨認目標物較接近資料庫中的何種資料。<br/>\n",
    "會根據資料附近中training的資料點去判斷testing的目標物為何，方法則是依據在目標物附近的資料，若A佔據的比例較多，則機器就會將目標物便認為A；若是B的比例較多，目標物則會被辨認為B。\n",
    "<img src='https://upload.wikimedia.org/wikipedia/commons/thumb/e/e7/KnnClassification.svg/320px-KnnClassification.svg.png?1593349430867'>\n",
    "<br/>\n",
    "以圖例解釋:<br/>\n",
    "在k=3的情況下，中間綠色的圓形會被視為是紅色的三角形<br/>\n",
    "在k=5的情況下，中間綠色的圓形會被視為是藍色的正方形<br/>\n"
   ]
  },
  {
   "cell_type": "markdown",
   "metadata": {},
   "source": [
    "## 程式碼\n",
    "安裝所需套件"
   ]
  },
  {
   "cell_type": "code",
   "execution_count": 1,
   "metadata": {},
   "outputs": [],
   "source": [
    "from sklearn import datasets\n",
    "from sklearn.model_selection import train_test_split\n",
    "from sklearn.model_selection import cross_val_score\n",
    "from sklearn.neighbors import KNeighborsClassifier\n",
    "from sklearn import *\n",
    "import csv\n",
    "import numpy as np\n",
    "import pandas as pd\n",
    "import matplotlib.pyplot as plt\n",
    "import seaborn as sns\n",
    "import scipy.stats as stats"
   ]
  },
  {
   "cell_type": "markdown",
   "metadata": {},
   "source": [
    "### 資料輸入\n",
    "開啟檔案 <br/>\n",
    "將兩筆檔案的columns' names修正為相同的columns' names"
   ]
  },
  {
   "cell_type": "markdown",
   "metadata": {},
   "source": [
    "附註:\n",
    "1. 需要把csv跟ipynb放到同一資料夾\n",
    "2. 注意受試者是同一組"
   ]
  },
  {
   "cell_type": "code",
   "execution_count": 2,
   "metadata": {},
   "outputs": [],
   "source": [
    "with open('013_b_1114_1_2_p1.csv', newline='') as csvfile1:\n",
    "    data1 = pd.read_csv(csvfile1)\n",
    "    data1 = data1.rename(columns = {'p1Cash':'Cash','p1Stock':'Stock','p1TotalAsset':'TotalAsset',\n",
    "                                   'p1Decision':'Decision','p1ChechHistory':'CheckHistory'})\n",
    "with open('014_b_1114_1_2_p2.csv', newline='') as csvfile2:\n",
    "    data2 = pd.read_csv(csvfile2)\n",
    "    data2 = data2.rename(columns = {'p2Cash':'Cash','p2Stock':'Stock','p2TotalAsset':'TotalAsset',\n",
    "                                   'p2Decision':'Decision','p2ChechHistory':'CheckHistory'})"
   ]
  },
  {
   "cell_type": "markdown",
   "metadata": {},
   "source": [
    "只有當回合資料<br/>\n",
    "Cash為參與者持有的現金<br/>\n",
    "StockPrice為當回合的股票價格<br/>\n",
    "TotalAsset為參與者之總資產<br/>\n",
    "opp_TotalAsset為對手之總資產<br/>\n",
    "CheckHistory紀錄參與者是否觀看歷史紀錄<br/>"
   ]
  },
  {
   "cell_type": "code",
   "execution_count": 4,
   "metadata": {},
   "outputs": [],
   "source": [
    "X = data1.loc[:,['Cash','StockPrice','TotalAsset']]\n",
    "X['opp_TotalAsset'] = data2.loc[:,['TotalAsset']]\n",
    "X['CheckHistory'] = pd.get_dummies(data1.loc[:,'CheckHistory'])['yes']"
   ]
  },
  {
   "cell_type": "markdown",
   "metadata": {},
   "source": [
    "加入上回合的資料"
   ]
  },
  {
   "cell_type": "code",
   "execution_count": 5,
   "metadata": {},
   "outputs": [],
   "source": [
    "X_1_101 = X[1:101]\n",
    "X_1_101 = X_1_101.reset_index()\n",
    "X_0_100 = X[0:100]\n",
    "X_0_100 = X_0_100.rename(columns = {'Cash':'pre_Cash','StockPrice':'pre_StockPrice','TotalAsset':'pre_TotalAsset',\n",
    "                                   'opp_TotalAsset':'pre_opp_TotalAsset','CheckHistory':'pre_CheckHistory'}, inplace = False)\n",
    "X = pd.concat([X_1_101,X_0_100], axis=1)\n",
    "X = X.drop(['index'], axis = 1)"
   ]
  },
  {
   "cell_type": "markdown",
   "metadata": {},
   "source": [
    "加入delta_Price作為X的變項之一<br/>\n",
    "再將X中所有的資料標準化"
   ]
  },
  {
   "cell_type": "code",
   "execution_count": 6,
   "metadata": {},
   "outputs": [],
   "source": [
    "X['delta_Price'] = X['StockPrice']-X['pre_StockPrice']\n",
    "X_data = X[0:99]\n",
    "X = preprocessing.scale(X_data)"
   ]
  },
  {
   "cell_type": "markdown",
   "metadata": {},
   "source": [
    "輸入data1的decision作為Y變項"
   ]
  },
  {
   "cell_type": "code",
   "execution_count": 7,
   "metadata": {},
   "outputs": [],
   "source": [
    "Y_data = data1.loc[:,'Decision']\n",
    "Y =Y_data.to_numpy()\n",
    "Y = Y[1:100]"
   ]
  },
  {
   "cell_type": "markdown",
   "metadata": {},
   "source": [
    "將X,Y的資料分為training data以及testing data(train:80%, test:20%)"
   ]
  },
  {
   "cell_type": "code",
   "execution_count": 8,
   "metadata": {},
   "outputs": [],
   "source": [
    "X_train, X_test, Y_train, Y_test = train_test_split(X,Y,test_size=0.2,random_state = 408)"
   ]
  },
  {
   "cell_type": "markdown",
   "metadata": {},
   "source": [
    "建立knn模型<br/>\n",
    "將k值從1加到21去檢視k值為何時表現較佳\n",
    "* 尚未使用cross_validation"
   ]
  },
  {
   "cell_type": "code",
   "execution_count": 9,
   "metadata": {},
   "outputs": [
    {
     "name": "stdout",
     "output_type": "stream",
     "text": [
      "[0.6, 0.55, 0.5, 0.55, 0.55, 0.7, 0.65, 0.6, 0.65, 0.65, 0.65, 0.65, 0.65, 0.7, 0.7, 0.7, 0.7, 0.7, 0.7, 0.7, 0.7, 0.7, 0.7, 0.7, 0.7, 0.7, 0.7, 0.65, 0.65, 0.65, 0.65, 0.6, 0.6, 0.55, 0.55, 0.6, 0.6, 0.6, 0.55, 0.55, 0.55, 0.55, 0.55, 0.55, 0.55, 0.55, 0.55, 0.55, 0.55, 0.55]\n"
     ]
    },
    {
     "data": {
      "text/plain": [
       "Text(0, 0.5, 'Accuracy')"
      ]
     },
     "execution_count": 9,
     "metadata": {},
     "output_type": "execute_result"
    },
    {
     "data": {
      "image/png": "[encoded data removed]",
      "text/plain": [
       "<Figure size 720x432 with 1 Axes>"
      ]
     },
     "metadata": {
      "needs_background": "light"
     },
     "output_type": "display_data"
    }
   ],
   "source": [
    "k=[]\n",
    "acc = []\n",
    "for i in range(1,51):\n",
    "    knn = neighbors.KNeighborsClassifier(i)\n",
    "    knn.fit(X_train,Y_train)\n",
    "    pred = knn.predict(X_test)\n",
    "    k.append(i)\n",
    "    acc.append(np.mean(pred==Y_test))\n",
    "print(acc)\n",
    "plt.figure(figsize=(10,6))\n",
    "plt.plot(range(1,51),acc,color='blue', linestyle='dashed', marker='o',\n",
    "         markerfacecolor='red', markersize=10)\n",
    "plt.title('Accuracy vs. K Value')\n",
    "plt.xlabel('K')\n",
    "plt.ylabel('Accuracy')"
   ]
  },
  {
   "cell_type": "markdown",
   "metadata": {},
   "source": [
    "### 觀察結果\n",
    "測試結果為k=7時，Accuracy已達到最高，無法再進行提升<br/>\n",
    "因此列出k=7時的較詳細數據觀察結果"
   ]
  },
  {
   "cell_type": "code",
   "execution_count": 11,
   "metadata": {},
   "outputs": [
    {
     "name": "stdout",
     "output_type": "stream",
     "text": [
      "['no trade' 'no trade' 'no trade' 'no trade' 'no trade' 'no trade' 'sell'\n",
      " 'no trade' 'sell' 'buy' 'sell' 'buy' 'buy' 'sell' 'no trade' 'buy'\n",
      " 'no trade' 'no trade' 'sell' 'no trade']\n",
      "['no trade' 'no trade' 'no trade' 'buy' 'no trade' 'no trade' 'sell'\n",
      " 'no trade' 'no trade' 'no trade' 'sell' 'no trade' 'no trade' 'sell'\n",
      " 'no trade' 'no trade' 'no trade' 'no trade' 'no trade' 'no trade']\n"
     ]
    }
   ],
   "source": [
    "knn = neighbors.KNeighborsClassifier(7)\n",
    "knn.fit(X_train,Y_train)\n",
    "pred = knn.predict(X_test)\n",
    "print(Y_test)\n",
    "print(pred)"
   ]
  },
  {
   "cell_type": "code",
   "execution_count": 12,
   "metadata": {},
   "outputs": [
    {
     "name": "stdout",
     "output_type": "stream",
     "text": [
      "[[ 0  4  0]\n",
      " [ 1 10  0]\n",
      " [ 0  2  3]]\n",
      "              precision    recall  f1-score   support\n",
      "\n",
      "         buy       0.00      0.00      0.00         4\n",
      "    no trade       0.62      0.91      0.74        11\n",
      "        sell       1.00      0.60      0.75         5\n",
      "\n",
      "    accuracy                           0.65        20\n",
      "   macro avg       0.54      0.50      0.50        20\n",
      "weighted avg       0.59      0.65      0.59        20\n",
      "\n"
     ]
    }
   ],
   "source": [
    "from sklearn.metrics import classification_report,confusion_matrix\n",
    "print(confusion_matrix(Y_test,pred))\n",
    "print(classification_report(Y_test,pred))"
   ]
  },
  {
   "cell_type": "markdown",
   "metadata": {},
   "source": [
    "\n",
    "Matrix         |(預測,實際)          |\n",
    ":-------------:|:-------------------:|:--------------:\n",
    "     (buy,buy) |   (buy,no trade)    | (buy,sell)\n",
    "(no trade,buy) | (no trade,no trade) | (no trade,sell)\n",
    "    (sell,buy) |   (sell,no trade)   | (sell,sell)"
   ]
  },
  {
   "cell_type": "markdown",
   "metadata": {},
   "source": [
    "### 加入cross_validation再次進行模型的預測<br/>\n",
    "將資料分為5組進行，再以scores_mean呈現5組的平均結果。"
   ]
  },
  {
   "cell_type": "code",
   "execution_count": 96,
   "metadata": {
    "scrolled": true
   },
   "outputs": [
    {
     "name": "stdout",
     "output_type": "stream",
     "text": [
      "[0.31818182 0.6        0.68421053 0.36842105 0.52631579]\n",
      "[0.31818182 0.7        0.68421053 0.36842105 0.05263158]\n",
      "[0.36363636 0.65       0.68421053 0.21052632 0.52631579]\n",
      "[0.36363636 0.5        0.63157895 0.31578947 0.47368421]\n",
      "[0.54545455 0.5        0.57894737 0.42105263 0.52631579]\n",
      "[0.36363636 0.5        0.52631579 0.10526316 0.52631579]\n",
      "[0.36363636 0.5        0.57894737 0.26315789 0.52631579]\n",
      "[0.40909091 0.5        0.57894737 0.15789474 0.52631579]\n",
      "[0.40909091 0.5        0.57894737 0.26315789 0.52631579]\n",
      "[0.54545455 0.5        0.52631579 0.26315789 0.52631579]\n",
      "[0.54545455 0.5        0.52631579 0.47368421 0.52631579]\n",
      "[0.54545455 0.5        0.52631579 0.26315789 0.52631579]\n",
      "[0.36363636 0.5        0.52631579 0.47368421 0.52631579]\n",
      "[0.40909091 0.5        0.52631579 0.52631579 0.52631579]\n",
      "[0.40909091 0.55       0.52631579 0.52631579 0.52631579]\n",
      "[0.54545455 0.5        0.52631579 0.52631579 0.52631579]\n",
      "[0.36363636 0.5        0.52631579 0.52631579 0.52631579]\n",
      "[0.59090909 0.5        0.52631579 0.52631579 0.52631579]\n",
      "[0.72727273 0.5        0.52631579 0.52631579 0.52631579]\n",
      "[0.77272727 0.5        0.52631579 0.52631579 0.52631579]\n",
      "[0.68181818 0.5        0.52631579 0.52631579 0.52631579]\n",
      "[0.77272727 0.5        0.52631579 0.52631579 0.52631579]\n",
      "[0.63636364 0.5        0.52631579 0.52631579 0.52631579]\n",
      "[0.54545455 0.5        0.52631579 0.52631579 0.52631579]\n",
      "[0.63636364 0.5        0.52631579 0.52631579 0.52631579]\n",
      "[0.63636364 0.5        0.52631579 0.52631579 0.52631579]\n",
      "[0.59090909 0.5        0.52631579 0.52631579 0.52631579]\n",
      "[0.54545455 0.5        0.52631579 0.52631579 0.52631579]\n",
      "[0.54545455 0.5        0.52631579 0.52631579 0.52631579]\n",
      "[0.5        0.5        0.52631579 0.52631579 0.52631579]\n"
     ]
    }
   ],
   "source": [
    "acc = []\n",
    "for i in range(1,31):\n",
    "    knn = neighbors.KNeighborsClassifier(i)\n",
    "    scores = cross_val_score(knn,X,Y,cv=5,scoring='accuracy')\n",
    "    print(scores)\n",
    "    scores_mean = acc.append(scores.mean())"
   ]
  },
  {
   "cell_type": "markdown",
   "metadata": {},
   "source": [
    "### 觀察結果2\n",
    "以圖表呈現加入cross_validation後的結果"
   ]
  },
  {
   "cell_type": "code",
   "execution_count": 97,
   "metadata": {},
   "outputs": [
    {
     "data": {
      "text/plain": [
       "Text(0, 0.5, 'Accuracy')"
      ]
     },
     "execution_count": 97,
     "metadata": {},
     "output_type": "execute_result"
    },
    {
     "data": {
      "image/png": "[encoded data removed]",
      "text/plain": [
       "<Figure size 720x432 with 1 Axes>"
      ]
     },
     "metadata": {
      "needs_background": "light"
     },
     "output_type": "display_data"
    }
   ],
   "source": [
    "plt.figure(figsize=(10,6))\n",
    "plt.plot(range(1,31),acc,color='blue', linestyle='dashed', marker='o',\n",
    "         markerfacecolor='red', markersize=10)\n",
    "plt.title('Accuracy vs. K Value')\n",
    "plt.xlabel('K')\n",
    "plt.ylabel('Accuracy')"
   ]
  },
  {
   "cell_type": "code",
   "execution_count": null,
   "metadata": {},
   "outputs": [],
   "source": []
  }
 ],
 "metadata": {
  "kernelspec": {
   "display_name": "Python 3",
   "language": "python",
   "name": "python3"
  },
  "language_info": {
   "codemirror_mode": {
    "name": "ipython",
    "version": 3
   },
   "file_extension": ".py",
   "mimetype": "text/x-python",
   "name": "python",
   "nbconvert_exporter": "python",
   "pygments_lexer": "ipython3",
   "version": "3.7.3"
  }
 },
 "nbformat": 4,
 "nbformat_minor": 2
}
