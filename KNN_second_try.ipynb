{
 "cells": [
  {
   "cell_type": "markdown",
   "metadata": {},
   "source": [
    "# KNN_2\n",
    "修改日期:2020/6/29"
   ]
  },
  {
   "cell_type": "markdown",
   "metadata": {},
   "source": [
    "## 模型介紹\n",
    "KNN是透過機器學習去辨認目標物較接近資料庫中的何種資料。<br/>\n",
    "會根據資料附近中training的資料點去判斷testing的目標物為何，方法則是依據在目標物附近的資料，若A佔據的比例較多，則機器就會將目標物便認為A；若是B的比例較多，目標物則會被辨認為B。\n",
    "<img src='https://upload.wikimedia.org/wikipedia/commons/thumb/e/e7/KnnClassification.svg/320px-KnnClassification.svg.png?1593349430867'>\n",
    "<br/>\n",
    "以圖例解釋:<br/>\n",
    "在k=3的情況下，中間綠色的圓形會被視為是紅色的三角形<br/>\n",
    "在k=5的情況下，中間綠色的圓形會被視為是藍色的正方形<br/>\n"
   ]
  },
  {
   "cell_type": "markdown",
   "metadata": {},
   "source": [
    "## 程式碼\n",
    "安裝所需套件"
   ]
  },
  {
   "cell_type": "code",
   "execution_count": 1,
   "metadata": {},
   "outputs": [],
   "source": [
    "from sklearn import datasets\n",
    "from sklearn.model_selection import train_test_split\n",
    "from sklearn.model_selection import cross_val_score\n",
    "from sklearn.neighbors import KNeighborsClassifier\n",
    "from sklearn import *\n",
    "import csv\n",
    "import numpy as np\n",
    "import pandas as pd\n",
    "import matplotlib.pyplot as plt\n",
    "import seaborn as sns\n",
    "import scipy.stats as stats"
   ]
  },
  {
   "cell_type": "markdown",
   "metadata": {},
   "source": [
    "### 資料輸入\n",
    "開啟檔案 <br/>\n",
    "將兩筆檔案的columns' names修正為相同的columns' names<br/>\n",
    "<br/>\n",
    "\n",
    "附註:\n",
    "1. 需要把csv跟ipynb放到同一資料夾\n",
    "2. 注意受試者是同一組"
   ]
  },
  {
   "cell_type": "code",
   "execution_count": 2,
   "metadata": {},
   "outputs": [],
   "source": [
    "with open('013_b_1114_1_2_p1.csv', newline='') as csvfile1:\n",
    "    data1 = pd.read_csv(csvfile1)\n",
    "    data1 = data1.rename(columns = {'p1Cash':'Cash','p1Stock':'Stock','p1TotalAsset':'TotalAsset',\n",
    "                                   'p1Decision':'Decision','p1ChechHistory':'CheckHistory'})\n",
    "with open('014_b_1114_1_2_p2.csv', newline='') as csvfile2:\n",
    "    data2 = pd.read_csv(csvfile2)\n",
    "    data2 = data2.rename(columns = {'p2Cash':'Cash','p2Stock':'Stock','p2TotalAsset':'TotalAsset',\n",
    "                                   'p2Decision':'Decision','p2ChechHistory':'CheckHistory'})"
   ]
  },
  {
   "cell_type": "markdown",
   "metadata": {},
   "source": [
    "取所需資料(包含X,Y變項)"
   ]
  },
  {
   "cell_type": "code",
   "execution_count": 9,
   "metadata": {},
   "outputs": [],
   "source": [
    "X = data1.loc[:,['Cash','StockPrice','TotalAsset']]\n",
    "X['opp_TotalAsset'] = data2.loc[:,['TotalAsset']]\n",
    "X['CheckHistory'] = pd.get_dummies(data1.loc[:,'CheckHistory'])['yes']\n",
    "\n",
    "Y_data = data1.loc[:,'Decision']\n",
    "Y =Y_data.to_numpy()"
   ]
  },
  {
   "cell_type": "markdown",
   "metadata": {},
   "source": [
    "增加delta_Price作為X變項"
   ]
  },
  {
   "cell_type": "code",
   "execution_count": 10,
   "metadata": {},
   "outputs": [],
   "source": [
    "X_1_101 = X[1:101]\n",
    "X_1_101 = X_1_101.reset_index()\n",
    "X_0_100 = X[0:100]\n",
    "X_0_100 = X_0_100.rename(columns = {'Cash':'pre_Cash','StockPrice':'pre_StockPrice','TotalAsset':'pre_TotalAsset',\n",
    "                                   'opp_TotalAsset':'pre_opp_TotalAsset','CheckHistory':'pre_CheckHistory'}, inplace = False)\n",
    "X = pd.concat([X_1_101,X_0_100], axis=1)\n",
    "X['delta_Price'] = X['StockPrice']-X['pre_StockPrice']\n",
    "X_data = X[0:99]\n",
    "\n",
    "# X = X.drop(['index','Cash','pre_Cash','StockPrice','pre_StockPrice','TotalAsset','pre_TotalAsset',\n",
    "#                                    'opp_TotalAsset','pre_opp_TotalAsset','CheckHistory','pre_CheckHistory'], axis = 1)\n",
    "X = X.drop(['index','pre_Cash','pre_StockPrice','pre_TotalAsset','pre_opp_TotalAsset','pre_CheckHistory','pre_StockPrice'], axis = 1)\n"
   ]
  },
  {
   "cell_type": "markdown",
   "metadata": {},
   "source": [
    "### 稍微修正資料曲線\n",
    "取該資料點的前五項與資料點本身算出平均值後，當作新的資料點<br/>\n",
    "可以使資料曲線較平滑，也減少資料中出現local maximum或local minimum的出現"
   ]
  },
  {
   "cell_type": "code",
   "execution_count": 11,
   "metadata": {},
   "outputs": [
    {
     "name": "stdout",
     "output_type": "stream",
     "text": [
      "            row0        row1          row2          row3      row4      row5\n",
      "0            NaN         NaN           NaN           NaN       NaN       NaN\n",
      "1            NaN         NaN           NaN           NaN       NaN       NaN\n",
      "2            NaN         NaN           NaN           NaN       NaN       NaN\n",
      "3            NaN         NaN           NaN           NaN       NaN       NaN\n",
      "4            NaN         NaN           NaN           NaN       NaN       NaN\n",
      "5   10215.666667   96.833333  10976.000000  10965.166667  1.000000 -1.166667\n",
      "6   10249.166667   96.166667  10971.500000  10957.833333  1.000000 -0.666667\n",
      "7   10282.000000   96.000000  10971.000000  10956.000000  0.833333 -0.166667\n",
      "8   10347.000000   95.500000  10968.833333  10950.166667  0.833333 -0.500000\n",
      "9   10380.166667   95.500000  10969.666667  10950.333333  0.833333  0.000000\n",
      "10  10413.333333   95.166667  10968.833333  10946.500000  0.833333 -0.333333\n",
      "11  10446.166667   95.166667  10970.666667  10946.000000  0.666667  0.000000\n",
      "12  10479.000000   94.666667  10969.000000  10940.000000  0.666667 -0.500000\n",
      "13  10495.833333   94.166667  10967.333333  10934.000000  0.833333 -0.500000\n",
      "14  10481.166667   94.500000  10970.333333  10937.500000  0.833333  0.333333\n",
      "15  10498.166667   94.000000  10968.666667  10931.333333  0.833333 -0.500000\n",
      "16  10499.000000   93.833333  10968.666667  10929.166667  0.833333 -0.166667\n",
      "17  10484.000000   94.000000  10970.000000  10931.000000  1.000000  0.166667\n",
      "18  10484.500000   94.666667  10973.833333  10938.833333  1.000000  0.666667\n",
      "19  10501.166667   95.333333  10977.666667  10946.666667  1.000000  0.666667\n",
      "20  10549.500000   95.166667  10977.500000  10944.666667  1.000000 -0.166667\n",
      "21  10581.833333   96.333333  10982.000000  10960.333333  1.000000  1.166667\n",
      "22  10631.000000   96.666667  10984.833333  10965.166667  1.000000  0.333333\n",
      "23  10680.166667   97.000000  10987.666667  10970.000000  1.000000  0.333333\n",
      "24  10729.333333   96.833333  10988.000000  10968.833333  1.000000 -0.166667\n",
      "25  10762.333333   96.333333  10987.666667  10963.666667  1.000000 -0.500000\n",
      "26  10763.500000   97.166667  10991.333333  10974.833333  1.000000  0.833333\n",
      "27  10781.333333   96.166667  10990.333333  10962.833333  1.000000 -1.000000\n",
      "28  10782.333333   97.000000  10993.000000  10973.666667  0.833333  0.833333\n",
      "29  10800.166667   97.333333  10995.166667  10978.500000  0.833333  0.333333\n",
      "..           ...         ...           ...           ...       ...       ...\n",
      "70  10837.166667  105.166667  11048.500000  11137.000000  1.000000 -1.500000\n",
      "71  10823.666667  103.500000  11048.833333  11129.833333  1.000000 -1.666667\n",
      "72  10808.500000  102.000000  11047.666667  11123.666667  1.000000 -1.500000\n",
      "73  10794.833333  100.000000  11046.000000  11113.500000  1.000000 -2.000000\n",
      "74  10781.166667   98.166667  11043.833333  11105.166667  1.000000 -1.833333\n",
      "75  10769.333333   96.166667  11042.000000  11094.833333  1.000000 -2.000000\n",
      "76  10739.500000   95.000000  11040.166667  11090.333333  1.000000 -1.166667\n",
      "77  10726.000000   93.500000  11037.833333  11083.000000  1.000000 -1.500000\n",
      "78  10695.333333   94.166667  11040.833333  11089.166667  1.000000  0.666667\n",
      "79  10696.333333   92.833333  11037.833333  11083.333333  1.000000 -1.333333\n",
      "80  10697.333333   92.833333  11038.833333  11085.166667  1.000000  0.000000\n",
      "81  10713.500000   91.166667  11034.000000  11077.000000  1.000000 -1.666667\n",
      "82  10715.333333   90.833333  11034.500000  11076.000000  1.000000 -0.333333\n",
      "83  10717.166667   90.000000  11033.000000  11072.000000  1.000000 -0.833333\n",
      "84  10733.833333   87.833333  11027.000000  11059.500000  1.000000 -2.166667\n",
      "85  10734.333333   87.666667  11027.000000  11059.500000  1.000000 -0.166667\n",
      "86  10734.833333   86.166667  11023.000000  11051.000000  1.000000 -1.500000\n",
      "87  10735.333333   86.000000  11023.000000  11051.000000  1.000000 -0.166667\n",
      "88  10764.333333   84.000000  11018.333333  11040.000000  1.000000 -2.000000\n",
      "89  10780.500000   82.666667  11015.666667  11033.666667  1.000000 -1.333333\n",
      "90  10781.833333   82.666667  11017.000000  11036.333333  1.000000  0.000000\n",
      "91  10797.166667   82.166667  11016.833333  11035.500000  1.000000 -0.500000\n",
      "92  10812.500000   81.666667  11017.500000  11033.000000  1.000000 -0.500000\n",
      "93  10827.833333   80.000000  11015.333333  11022.333333  1.000000 -1.666667\n",
      "94  10816.500000   80.333333  11017.833333  11025.000000  1.000000  0.333333\n",
      "95  10818.000000   79.333333  11016.333333  11018.333333  1.000000 -1.000000\n",
      "96  10819.500000   78.333333  11014.833333  11011.666667  1.000000 -1.000000\n",
      "97  10820.000000   76.166667  11011.000000  10996.833333  1.000000 -2.166667\n",
      "98  10808.666667   75.500000  11010.833333  10994.000000  1.000000 -0.666667\n",
      "99  10797.333333   74.833333  11010.000000  10991.166667  0.833333 -0.666667\n",
      "\n",
      "[100 rows x 6 columns]\n"
     ]
    }
   ],
   "source": [
    "#smooth the data\n",
    "k = 6\n",
    "for i in range(0,6):\n",
    "    X['row'+str(i)] = X.iloc[:,i].rolling(window = k).mean()\n",
    "# X['smooth'] = X.rolling(window = 3).mean()\n",
    "X = X.drop(['Cash','StockPrice','TotalAsset','opp_TotalAsset','CheckHistory','delta_Price'], axis = 1)\n",
    "print(X)\n",
    "\n",
    "X = preprocessing.scale(X, axis = 0)\n",
    "X = X[k-1:99]\n",
    "Y = Y[k-1:99]"
   ]
  },
  {
   "cell_type": "markdown",
   "metadata": {},
   "source": [
    "### 建構模型\n",
    "將k值從1到31帶入模型，去找出在k值為多少時，可以有較佳的預測效果。<br/>\n",
    "cross_validation設為5組，以5組的平均作為預測正確率。"
   ]
  },
  {
   "cell_type": "code",
   "execution_count": 12,
   "metadata": {},
   "outputs": [
    {
     "name": "stdout",
     "output_type": "stream",
     "text": [
      "[0.26315789 0.31578947 0.47368421 0.36842105 0.33333333]\n",
      "[0.31578947 0.47368421 0.42105263 0.31578947 0.55555556]\n",
      "[0.31578947 0.47368421 0.68421053 0.52631579 0.55555556]\n",
      "[0.36842105 0.52631579 0.57894737 0.52631579 0.55555556]\n",
      "[0.36842105 0.42105263 0.63157895 0.52631579 0.55555556]\n",
      "[0.31578947 0.52631579 0.52631579 0.57894737 0.55555556]\n",
      "[0.36842105 0.57894737 0.57894737 0.63157895 0.55555556]\n",
      "[0.42105263 0.52631579 0.63157895 0.57894737 0.55555556]\n",
      "[0.47368421 0.57894737 0.63157895 0.57894737 0.55555556]\n",
      "[0.47368421 0.57894737 0.52631579 0.52631579 0.55555556]\n",
      "[0.47368421 0.57894737 0.52631579 0.57894737 0.55555556]\n",
      "[0.52631579 0.57894737 0.57894737 0.52631579 0.55555556]\n",
      "[0.57894737 0.52631579 0.52631579 0.57894737 0.55555556]\n",
      "[0.57894737 0.52631579 0.52631579 0.42105263 0.55555556]\n",
      "[0.57894737 0.52631579 0.52631579 0.36842105 0.55555556]\n",
      "[0.68421053 0.52631579 0.52631579 0.52631579 0.55555556]\n",
      "[0.63157895 0.52631579 0.52631579 0.52631579 0.55555556]\n",
      "[0.52631579 0.52631579 0.52631579 0.52631579 0.55555556]\n",
      "[0.57894737 0.52631579 0.52631579 0.52631579 0.55555556]\n",
      "[0.52631579 0.52631579 0.52631579 0.52631579 0.55555556]\n",
      "[0.57894737 0.52631579 0.52631579 0.52631579 0.55555556]\n",
      "[0.57894737 0.52631579 0.52631579 0.52631579 0.55555556]\n",
      "[0.52631579 0.52631579 0.52631579 0.52631579 0.55555556]\n",
      "[0.52631579 0.52631579 0.52631579 0.52631579 0.55555556]\n",
      "[0.52631579 0.52631579 0.52631579 0.52631579 0.55555556]\n",
      "[0.52631579 0.52631579 0.52631579 0.52631579 0.55555556]\n",
      "[0.52631579 0.52631579 0.52631579 0.52631579 0.55555556]\n",
      "[0.52631579 0.52631579 0.52631579 0.52631579 0.55555556]\n",
      "[0.52631579 0.52631579 0.52631579 0.52631579 0.55555556]\n",
      "[0.52631579 0.52631579 0.52631579 0.52631579 0.55555556]\n"
     ]
    }
   ],
   "source": [
    "#KNN model \n",
    "acc = []\n",
    "for i in range(1,31):\n",
    "    knn = neighbors.KNeighborsClassifier(i)\n",
    "    scores = cross_val_score(knn,X,Y,cv=5,scoring='accuracy')\n",
    "    print(scores)\n",
    "    scores_mean = acc.append(scores.mean())"
   ]
  },
  {
   "cell_type": "markdown",
   "metadata": {},
   "source": [
    "### 觀察結果\n",
    "以圖表呈現k=1~31的結果。\n"
   ]
  },
  {
   "cell_type": "code",
   "execution_count": 13,
   "metadata": {},
   "outputs": [
    {
     "data": {
      "text/plain": [
       "Text(0, 0.5, 'Accuracy')"
      ]
     },
     "execution_count": 13,
     "metadata": {},
     "output_type": "execute_result"
    },
    {
     "data": {
      "image/png": "[encoded data removed]",
      "text/plain": [
       "<Figure size 720x432 with 1 Axes>"
      ]
     },
     "metadata": {
      "needs_background": "light"
     },
     "output_type": "display_data"
    }
   ],
   "source": [
    "plt.figure(figsize=(10,6))\n",
    "plt.plot(range(1,31),acc,color='blue', linestyle='dashed', marker='o',\n",
    "         markerfacecolor='red', markersize=10)\n",
    "plt.title('Accuracy vs. K Value')\n",
    "plt.xlabel('K')\n",
    "plt.ylabel('Accuracy')"
   ]
  },
  {
   "cell_type": "code",
   "execution_count": null,
   "metadata": {},
   "outputs": [],
   "source": []
  }
 ],
 "metadata": {
  "kernelspec": {
   "display_name": "Python 3",
   "language": "python",
   "name": "python3"
  },
  "language_info": {
   "codemirror_mode": {
    "name": "ipython",
    "version": 3
   },
   "file_extension": ".py",
   "mimetype": "text/x-python",
   "name": "python",
   "nbconvert_exporter": "python",
   "pygments_lexer": "ipython3",
   "version": "3.7.3"
  }
 },
 "nbformat": 4,
 "nbformat_minor": 2
}
